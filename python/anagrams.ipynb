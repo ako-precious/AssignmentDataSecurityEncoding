{
  "nbformat": 4,
  "nbformat_minor": 0,
  "metadata": {
    "colab": {
      "provenance": [],
      "collapsed_sections": [
        "yIK6gLXz7D8R"
      ]
    },
    "kernelspec": {
      "name": "python3",
      "display_name": "Python 3"
    },
    "language_info": {
      "name": "python"
    }
  },
  "cells": [
    {
      "cell_type": "markdown",
      "source": [
        "# In a jupyter notebook, implement a recursive function anagrams() that computes anagrams of a given word.\n",
        "An anagram of word A is word B that can be formed by re-arranging the letters of A. For example, the word pot is the anagram of the word top. Your function will take as an input the name of a file of words and as well a word, and print all the words in the file that are anagrams of the input word. Used the attached file words.txt as your file of words.\n",
        "words.txt\n",
        "\n",
        ">>> anagrams(\"words.txt, trace)\n",
        "crate\n",
        "cater\n",
        "react\n"
      ],
      "metadata": {
        "id": "yIK6gLXz7D8R"
      }
    },
    {
      "cell_type": "code",
      "execution_count": 1,
      "metadata": {
        "id": "WaXsIHz4p_Zi",
        "colab": {
          "base_uri": "https://localhost:8080/"
        },
        "outputId": "9589c786-9b64-4239-c5a2-73197ea906c7"
      },
      "outputs": [
        {
          "output_type": "stream",
          "name": "stdout",
          "text": [
            "free\n"
          ]
        }
      ],
      "source": [
        "def anagrams(file_name, word):\n",
        "    # Read the file and retrieve all the words\n",
        "    with open(file_name, 'r') as file:\n",
        "        words = [line.strip() for line in file]\n",
        "\n",
        "    # Helper function to check if two words are anagrams\n",
        "    def is_anagram(word1, word2):\n",
        "        return sorted(word1) == sorted(word2)\n",
        "\n",
        "    # Recursive function to find anagrams\n",
        "    def find_anagrams(current_word, remaining_words, found_anagrams):\n",
        "        if not remaining_words:\n",
        "            return found_anagrams\n",
        "\n",
        "        # Check if the current word is an anagram\n",
        "        if is_anagram(current_word, remaining_words[0]):\n",
        "            found_anagrams.append(remaining_words[0])\n",
        "\n",
        "        # Continue searching with the next word\n",
        "        return find_anagrams(current_word, remaining_words[1:], found_anagrams)\n",
        "\n",
        "    # Find anagrams of the given word\n",
        "    anagram_list = find_anagrams(word, words, [])\n",
        "\n",
        "    # Print the anagrams\n",
        "    for anagram in anagram_list:\n",
        "        print(anagram)\n",
        "\n",
        "# Usage example\n",
        "anagrams(\"words.txt\", \"free\")\n"
      ]
    }
  ]
}