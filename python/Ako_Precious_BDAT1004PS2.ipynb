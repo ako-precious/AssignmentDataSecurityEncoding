{
  "nbformat": 4,
  "nbformat_minor": 0,
  "metadata": {
    "colab": {
      "provenance": []
    },
    "kernelspec": {
      "name": "python3",
      "display_name": "Python 3"
    },
    "language_info": {
      "name": "python"
    }
  },
  "cells": [
    {
      "cell_type": "markdown",
      "source": [],
      "metadata": {
        "id": "MxMh8PZn9SdE"
      }
    },
    {
      "cell_type": "markdown",
      "source": [
        "# Question 1\n",
        "Consider the following Python module:\n",
        "\n",
        "a = 0\n",
        "\n",
        "def b():\n",
        "\n",
        "global a\n",
        "\n",
        "a = c(a)\n",
        "\n",
        "def c(a):\n",
        "\n",
        "return a + 2\n",
        "\n",
        "After importing the module into the interpreter, you execute:\n",
        "b()\n",
        "\n",
        "b()\n",
        "\n",
        "b()\n",
        "\n",
        "a\n",
        "\n",
        "What value is displayed when the last expression (a) is evaluated? Explain your Banswer by indicating what happens in every executed statement."
      ],
      "metadata": {
        "id": "S_wYE1356jiy"
      }
    },
    {
      "cell_type": "code",
      "execution_count": null,
      "metadata": {
        "colab": {
          "base_uri": "https://localhost:8080/"
        },
        "id": "lIgl_L-U2v56",
        "outputId": "ff383b70-91aa-4add-d6e0-30e493505cd9"
      },
      "outputs": [
        {
          "output_type": "stream",
          "name": "stdout",
          "text": [
            "None\n",
            "None\n",
            "None\n",
            "6\n"
          ]
        }
      ],
      "source": [
        "a = 0\n",
        "def b():\n",
        "  global a\n",
        "  a = c(a)\n",
        "def c(a):\n",
        "  return a + 2\n",
        "\n",
        "print(b())\n",
        "print(b())\n",
        "print(b())\n",
        "print(a)"
      ]
    },
    {
      "cell_type": "markdown",
      "source": [
        "When the last expression `a` is evaluated, the value displayed would be `6`.\n",
        "\n",
        "Here's an explanation of what happens in each executed statement:\n",
        "\n",
        "1. `b()` is called for the first time:\n",
        "   - The variable `a` is declared as 0 in the module's global scope.\n",
        "   - The function `b()` is executed.\n",
        "   - Inside `b()`, the `global` keyword is used to indicate that `a` refers to the global variable `a` defined in the module.\n",
        "   - The function `c()` is called with the current value of `a` (0) as the argument.\n",
        "   - Inside `c()`, the value of `a` is increased by 2 and returned (0 + 2 = 2).\n",
        "   - The returned value (2) is assigned to the global variable `a` in the module's scope.\n",
        "\n",
        "2. `b()` is called for the second time:\n",
        "   - The global variable `a` now holds the value 2.\n",
        "   - The function `b()` is executed again.\n",
        "   - Inside `b()`, the `global` keyword ensures that `a` refers to the global variable.\n",
        "   - The function `c()` is called with the current value of `a` (2) as the argument.\n",
        "   - Inside `c()`, the value of `a` is increased by 2 and returned (2 + 2 = 4).\n",
        "   - The returned value (4) is assigned to the global variable `a` in the module's scope.\n",
        "\n",
        "3. `b()` is called for the third time:\n",
        "   - The global variable `a` now holds the value 4.\n",
        "   - The function `b()` is executed once again.\n",
        "   - Inside `b()`, the `global` keyword ensures that `a` refers to the global variable.\n",
        "   - The function `c()` is called with the current value of `a` (4) as the argument.\n",
        "   - Inside `c()`, the value of `a` is increased by 2 and returned (4 + 2 = 6).\n",
        "   - The returned value (6) is assigned to the global variable `a` in the module's scope.\n",
        "\n",
        "4. `a` is evaluated:\n",
        "   - Since the last value assigned to `a` was 6, the value 6 is displayed when `a` is evaluated.\n",
        "\n",
        "Therefore, the output of the last expression `a` would be `6`."
      ],
      "metadata": {
        "id": "fHCHm2z96Sjb"
      }
    },
    {
      "cell_type": "markdown",
      "source": [
        "# Question 2\n",
        "Function fileLength(), given to you, takes the name of a file as input and returns\n",
        "the length of the file:\n",
        "\n",
        " >>>fileLength('midterm.py')\n",
        "284\n",
        "\n",
        ">>>fileLength('idterm.py')\n",
        "Traceback (most recent call last):\n",
        "File \"<pyshell#34>\", line 1, in <module>\n",
        "fileLength('idterm.py')\n",
        "File \"/Users/me/midterm.py\", line 3, in fileLength\n",
        "infile = open(filename)\n",
        "FileNotFoundError: [Errno 2] No such file or directory:\n",
        "'idterm.py'\n",
        "\n",
        "As shown above, if the file cannot be found by the interpreter or if it cannot be read\n",
        "as a text file, an exception will be raised. Modify function fileLength() so that a\n",
        "friendly message is printed instead:\n",
        ">>> fileLength('midterm.py')\n",
        "358\n",
        ">>> fileLength('idterm.py')\n",
        "File idterm.py not found."
      ],
      "metadata": {
        "id": "V8xZzvc78K21"
      }
    },
    {
      "cell_type": "code",
      "source": [
        "def fileLength(filename):\n",
        "    try:\n",
        "      file = open(filename)\n",
        "      contents = file.read()\n",
        "      file.close()\n",
        "      print(len(contents))\n",
        "    except FileNotFoundError:\n",
        "        print(f\"File {filename} not found.\")\n",
        "\n",
        "\n",
        "fileLength(\"/content/sample_data/README.md\")"
      ],
      "metadata": {
        "id": "6HdNYSbn9WBL",
        "colab": {
          "base_uri": "https://localhost:8080/"
        },
        "outputId": "177d1ced-a1d7-4040-c532-82394469d890"
      },
      "execution_count": null,
      "outputs": [
        {
          "output_type": "stream",
          "name": "stdout",
          "text": [
            "930\n"
          ]
        }
      ]
    },
    {
      "cell_type": "markdown",
      "source": [
        "# Question 3\n",
        "Write a class named Marsupial that can be used as shown below:\n",
        ">> m = Marsupial()\n",
        ">> m.put_in_pouch('doll')\n",
        ">> m.put_in_pouch('firetruck')\n",
        ">> m.put_in_pouch('kitten')\n",
        ">> m.pouch_contents()\n",
        "\n",
        ">> ['doll', 'firetruck', 'kitten']\n",
        "\n",
        "Now write a class named Kangaroo as a subclass of Marsupial that inherits all the\n",
        "attributes of Marsupial and also:\n",
        " extends the Marsupial __init__ constructor to\n",
        "\n",
        "a. take, as input, the\n",
        "coordinates x and y of the Kangaroo object,\n",
        "\n",
        "b. supports method jump that takes number values dx and dy as input and\n",
        "movesthe kangaroo by dx units along the x-axis and by dy units along the y\u0002axis, and  \n",
        "\n",
        "c. overloads the __str__ operator so it behaves as shown below.\n",
        ">> k = Kangaroo(0,0)\n",
        "\n",
        ">> print(k)\n",
        "\n",
        "I am a Kangaroo located at coordinates (0,0)\n",
        ">> k.put_in_pouch('doll')\n",
        ">> k.put_in_pouch('firetruck')\n",
        ">> k.put_in_pouch('kitten')\n",
        ">> k.pouch_contents()\n",
        "\n",
        "['doll', 'firetruck', 'kitten']\n",
        ">> k.jump(1,0)\n",
        "\n",
        ">> k.jump(1,0)\n",
        "\n",
        ">> k.jump(1,0)\n",
        "\n",
        ">> print(k)\n",
        "\n",
        "I am a Kangaroo located at coordinates (3,0)\n"
      ],
      "metadata": {
        "id": "FJmuoTehBNgs"
      }
    },
    {
      "cell_type": "code",
      "source": [
        "class Marsupial:\n",
        "    def __init__(self):\n",
        "        self.pouch = []\n",
        "\n",
        "    def put_in_pouch(self, item):\n",
        "        self.pouch.append(item)\n",
        "\n",
        "    def pouch_contents(self):\n",
        "        return self.pouch\n",
        "\n",
        "\n",
        "class Kangaroo(Marsupial):\n",
        "    def __init__(self, x, y):\n",
        "        super().__init__()\n",
        "        self.x = x\n",
        "        self.y = y\n",
        "\n",
        "    def jump(self, dx, dy):\n",
        "        self.x += dx\n",
        "        self.y += dy\n",
        "\n",
        "    def __str__(self):\n",
        "        return f\"I am a Kangaroo located at coordinates ({self.x},{self.y})\"\n"
      ],
      "metadata": {
        "id": "FNZght6zDUWM"
      },
      "execution_count": null,
      "outputs": []
    },
    {
      "cell_type": "code",
      "source": [
        "m = Marsupial()\n",
        "m.put_in_pouch('doll')\n",
        "m.put_in_pouch('firetruck')\n",
        "m.put_in_pouch('kitten')\n",
        "print(m.pouch_contents())\n",
        "\n",
        "k = Kangaroo(0, 0)\n",
        "print(k)\n",
        "k.put_in_pouch('doll')\n",
        "k.put_in_pouch('firetruck')\n",
        "k.put_in_pouch('kitten')\n",
        "print(k.pouch_contents())\n",
        "\n",
        "k.jump(1, 0)\n",
        "k.jump(1, 0)\n",
        "k.jump(1, 0)\n",
        "print(k)\n"
      ],
      "metadata": {
        "colab": {
          "base_uri": "https://localhost:8080/"
        },
        "id": "o-2YCD-oErTS",
        "outputId": "09cde90c-28eb-4b2a-c59f-2d0bdfd0e293"
      },
      "execution_count": null,
      "outputs": [
        {
          "output_type": "stream",
          "name": "stdout",
          "text": [
            "['doll', 'firetruck', 'kitten']\n",
            "I am a Kangaroo located at coordinates (0,0)\n",
            "['doll', 'firetruck', 'kitten']\n",
            "I am a Kangaroo located at coordinates (3,0)\n"
          ]
        }
      ]
    },
    {
      "cell_type": "markdown",
      "source": [
        "# Question 4\n",
        "Write function collatz() that takes a positive integer x as input and prints the\n",
        "Collatz sequence starting at x. A Collatz sequence is obtained by repeatedly applying\n",
        "this rule to the previous number x in the sequence:\n",
        "\n",
        "x = {\n",
        "𝑥/2 +1 𝑖𝑓 𝑥 𝑖𝑠 𝑒𝑣𝑒𝑛3𝑥\n",
        " 𝑖𝑓 𝑥 𝑖𝑠 𝑜𝑑𝑑\n",
        "\n",
        "Your function should stop when the sequence gets to number 1.\n",
        "\n",
        "Your implementation must be recursive, without any loops.  \n",
        ">> collatz(1)\n",
        "1\n",
        "\n",
        ">> collatz(10)\n",
        "10\n",
        "5\n",
        "16\n",
        "8\n",
        "4\n",
        "2\n",
        "1"
      ],
      "metadata": {
        "id": "YzFIZYe2Hep1"
      }
    },
    {
      "cell_type": "code",
      "source": [
        "def collatz(x):\n",
        "    print(x)\n",
        "    if x == 1:\n",
        "        return\n",
        "    elif x % 2 == 0:\n",
        "        collatz(x // 2)\n",
        "    else:\n",
        "        collatz(3 * x + 1)\n"
      ],
      "metadata": {
        "id": "lF03cJT5JLmh"
      },
      "execution_count": null,
      "outputs": []
    },
    {
      "cell_type": "code",
      "source": [
        "collatz(1)\n",
        "\n",
        "collatz(11)\n"
      ],
      "metadata": {
        "colab": {
          "base_uri": "https://localhost:8080/"
        },
        "id": "Ajy_1uiBJY6g",
        "outputId": "4a3e9000-95be-4774-9795-d7d12c9c4b68"
      },
      "execution_count": null,
      "outputs": [
        {
          "output_type": "stream",
          "name": "stdout",
          "text": [
            "1\n",
            "11\n",
            "34\n",
            "17\n",
            "52\n",
            "26\n",
            "13\n",
            "40\n",
            "20\n",
            "10\n",
            "5\n",
            "16\n",
            "8\n",
            "4\n",
            "2\n",
            "1\n"
          ]
        }
      ]
    },
    {
      "cell_type": "markdown",
      "source": [
        "# Question 5\n",
        "Write a recursive method binary() that takes a non-negative\n",
        "integer n and prints the binary representation of integer n.\n",
        ">> binary(0)\n",
        "\\\n",
        "0 \\\n",
        ">> binary(1)\n",
        "\\\n",
        "1 \\\n",
        ">> binary(3)\n",
        "\\\n",
        "11 \\\n",
        ">> binary(9)\n",
        "\\\n",
        "1001\n"
      ],
      "metadata": {
        "id": "3plZXMh1L2w7"
      }
    },
    {
      "cell_type": "code",
      "source": [
        "def binary(n):\n",
        "    if n > 1:\n",
        "        binary(n // 2)\n",
        "    print(n % 2, end='')\n"
      ],
      "metadata": {
        "id": "HnWJilltMTFh"
      },
      "execution_count": null,
      "outputs": []
    },
    {
      "cell_type": "code",
      "source": [
        "binary(0)"
      ],
      "metadata": {
        "colab": {
          "base_uri": "https://localhost:8080/"
        },
        "id": "qAfsR7ImMpIN",
        "outputId": "6970ec95-c131-43e9-e880-94394531c11d"
      },
      "execution_count": null,
      "outputs": [
        {
          "output_type": "stream",
          "name": "stdout",
          "text": [
            "0"
          ]
        }
      ]
    },
    {
      "cell_type": "code",
      "source": [
        "binary(1)"
      ],
      "metadata": {
        "colab": {
          "base_uri": "https://localhost:8080/"
        },
        "id": "ck-OKFrPNT54",
        "outputId": "a161fbb1-4ea8-4207-89e5-0979372e2617"
      },
      "execution_count": null,
      "outputs": [
        {
          "output_type": "stream",
          "name": "stdout",
          "text": [
            "1"
          ]
        }
      ]
    },
    {
      "cell_type": "code",
      "source": [
        "binary(3)"
      ],
      "metadata": {
        "colab": {
          "base_uri": "https://localhost:8080/"
        },
        "id": "ZR_qe3IKNWxu",
        "outputId": "300f6503-8217-41cc-ea0b-fa37a2b2d921"
      },
      "execution_count": null,
      "outputs": [
        {
          "output_type": "stream",
          "name": "stdout",
          "text": [
            "11"
          ]
        }
      ]
    },
    {
      "cell_type": "code",
      "source": [
        "binary(9)"
      ],
      "metadata": {
        "colab": {
          "base_uri": "https://localhost:8080/"
        },
        "id": "l80XoxI6NbNe",
        "outputId": "a7c2e1ba-858a-457a-8150-c8fe0275ec1f"
      },
      "execution_count": null,
      "outputs": [
        {
          "output_type": "stream",
          "name": "stdout",
          "text": [
            "1001"
          ]
        }
      ]
    },
    {
      "cell_type": "markdown",
      "source": [
        "# Question 6\n",
        "Implement a class named HeadingParser that can be used to parse an HTML\n",
        "document, and retrieve and print all the headings in the document. You should\n",
        "implement your class as a subclass of HTMLParser, defined in Standard Library\n",
        "module html.parser. When fed a string containing HTML code, your class should\n",
        "print the headings, one per line and in the order in which they appear in the\n",
        "document. Each heading should be indented as follows: an h1 heading should have indentation 0, and h2 heading should have indentation 1, etc. Test your implementation using w3c.html.\n",
        ">> infile = open('w3c.html')\n",
        ">> content = infile.read()\n",
        ">> infile.close()\n",
        ">> hp = HeadingParser()\n",
        ">> hp.feed(content)\n",
        "\n",
        "W3C Mission\n",
        "\n",
        "Principles"
      ],
      "metadata": {
        "id": "t1GLupYVOs2V"
      }
    },
    {
      "cell_type": "code",
      "source": [
        "from html.parser import HTMLParser\n",
        "\n",
        "\n",
        "class HeadingParser(HTMLParser):\n",
        "    def __init__(self):\n",
        "        super().__init__()\n",
        "        self.indentation = 0\n",
        "        self.inside_heading = False\n",
        "\n",
        "    def handle_starttag(self, tag, attrs):\n",
        "        if tag.startswith('h') and len(tag) == 2 and tag[1].isdigit():\n",
        "            self.indentation = int(tag[1]) - 1\n",
        "            self.inside_heading = True\n",
        "\n",
        "    def handle_endtag(self, tag):\n",
        "        if self.inside_heading:\n",
        "            self.inside_heading = False\n",
        "\n",
        "    def handle_data(self, data):\n",
        "        if self.inside_heading:\n",
        "            print(' ' * self.indentation + data)\n",
        "\n",
        "\n",
        "# Test the implementation using w3c.html\n",
        "infile = open('/content/w2c.txt')\n",
        "content = infile.read()\n",
        "infile.close()\n",
        "\n",
        "hp = HeadingParser()\n",
        "hp.feed(content)\n"
      ],
      "metadata": {
        "colab": {
          "base_uri": "https://localhost:8080/"
        },
        "id": "OUfUUD0jPKpk",
        "outputId": "abf10c4e-6110-4256-ea51-35f2aa627d7d"
      },
      "execution_count": null,
      "outputs": [
        {
          "output_type": "stream",
          "name": "stdout",
          "text": [
            "W3C Mission\n",
            " Principles\n"
          ]
        }
      ]
    },
    {
      "cell_type": "markdown",
      "source": [
        "# Question 7\n",
        "Implement recursive function webdir() that takes as input: a URL (as a string) and\n",
        "non-negative integers depth and indent. Your function should visit every web\n",
        "page reachable from the starting URL web page in depth clicks or less, and print\n",
        "each web page's URL. As shown below, indentation, specified by indent, should\n",
        "be used to indicate the depth of a URL.\n",
        "\n",
        "webdir('http://reed.cs.depaul.edu/lperkovic/csc242/test1.html'\n",
        ", 2, 0)\n",
        "http://reed.cs.depaul.edu/lperkovic/csc242/test1.html\n",
        "\n",
        "http://reed.cs.depaul.edu/lperkovic/csc242/test2.html\n",
        "\n",
        "http://reed.cs.depaul.edu/lperkovic/csc242/test4.html\n",
        "\n",
        "http://reed.cs.depaul.edu/lperkovic/csc242/test3.html\n",
        "\n",
        "http://reed.cs.depaul.edu/lperkovic/csc242/test4.html"
      ],
      "metadata": {
        "id": "pn2agzlzTAFM"
      }
    },
    {
      "cell_type": "code",
      "source": [
        "import requests\n",
        "from bs4 import BeautifulSoup\n",
        "\n",
        "\n",
        "def webdir(url, depth, indent):\n",
        "    if depth < 0:\n",
        "        return\n",
        "\n",
        "    response = requests.get(url)\n",
        "    soup = BeautifulSoup(response.content, 'html.parser')\n",
        "\n",
        "    print(' ' * indent + url)\n",
        "\n",
        "    for link in soup.find_all('a'):\n",
        "        href = link.get('href')\n",
        "        if href.startswith('http'):\n",
        "            webdir(href, depth - 1, indent + 1)\n",
        "\n",
        "\n",
        "# Test the implementation\n",
        "webdir('http://reed.cs.depaul.edu/lperkovic/csc242/test1.html', 2, 0)\n"
      ],
      "metadata": {
        "colab": {
          "base_uri": "https://localhost:8080/"
        },
        "id": "iE3Mf8B1VHun",
        "outputId": "edce3ac0-9ef7-427d-dd55-111db17e2bd4"
      },
      "execution_count": null,
      "outputs": [
        {
          "output_type": "stream",
          "name": "stdout",
          "text": [
            "http://reed.cs.depaul.edu/lperkovic/csc242/test1.html\n"
          ]
        }
      ]
    },
    {
      "cell_type": "markdown",
      "source": [
        "# Question 8\n",
        "Write SQL queries on the below database table that return:\n",
        "\n",
        "1. All the temperature data.\n",
        "2. All the cities, but without repetition.\n",
        "3. All the records for India.\n",
        "4. All the Fall records.\n",
        "5. The city, country, and season for which the average rainfall is between 200\n",
        "and 400 millimeters.\n",
        "6. The city and country for which the average Fall temperature is above 20\n",
        "degrees, in increasing temperature order.\n",
        "7. The total annual rainfall for Cairo.\n",
        "8. The total rainfall for each season\n"
      ],
      "metadata": {
        "id": "T90nw88jwNiU"
      }
    },
    {
      "cell_type": "code",
      "source": [
        "import sqlite3\n",
        "\n",
        "# Connect to the database (creates a new database if it doesn't exist)\n",
        "conn = sqlite3.connect('weather.db')\n",
        "\n",
        "# Create a cursor object to execute SQL commands\n",
        "cursor = conn.cursor()\n",
        "\n",
        "# Create the table with the specified columns\n",
        "cursor.execute('''CREATE TABLE weather (\n",
        "                    City TEXT,\n",
        "                    Country TEXT,\n",
        "                    Season TEXT,\n",
        "                    Temperature REAL,\n",
        "                    Rainfall REAL\n",
        "                )''')\n",
        "\n",
        "# Commit the changes and close the connection\n",
        "conn.commit()\n",
        "conn.close()\n"
      ],
      "metadata": {
        "id": "xkUbIqLFxQyD"
      },
      "execution_count": null,
      "outputs": []
    },
    {
      "cell_type": "code",
      "source": [
        "import sqlite3\n",
        "\n",
        "# Connect to the database\n",
        "conn = sqlite3.connect('weather.db')\n",
        "cursor = conn.cursor()\n",
        "\n",
        "# Insert the data into the 'weather' table\n",
        "data = [\n",
        "    ('Mumbai', 'India', 'Winter', 24.8, 5.9),\n",
        "    ('Mumbai', 'India', 'Spring', 28.4, 16.2),\n",
        "    ('Mumbai', 'India', 'Summer', 27.9, 1549.4),\n",
        "    ('Mumbai', 'India', 'Fall', 27.6, 346.0),\n",
        "    ('London', 'United Kingdom', 'Winter', 4.2, 207.7),\n",
        "    ('London', 'United Kingdom', 'Spring', 8.3, 169.6),\n",
        "    ('London', 'United Kingdom', 'Summer', 15.7, 157.0),\n",
        "    ('London', 'United Kingdom', 'Fall', 10.4, 218.5),\n",
        "    ('Cairo', 'Egypt', 'Winter', 13.6, 16.5),\n",
        "    ('Cairo', 'Egypt', 'Spring', 20.7, 6.5),\n",
        "    ('Cairo', 'Egypt', 'Summer', 27.7, 0.1),\n",
        "    ('Cairo', 'Egypt', 'Fall', 22.2, 4.5)\n",
        "]\n",
        "\n",
        "cursor.executemany('INSERT INTO weather VALUES (?, ?, ?, ?, ?)', data)\n",
        "\n",
        "# Commit the changes and close the connection\n",
        "conn.commit()\n",
        "conn.close()\n"
      ],
      "metadata": {
        "id": "Shz-T2gq4oD-"
      },
      "execution_count": null,
      "outputs": []
    },
    {
      "cell_type": "code",
      "source": [
        "import sqlite3\n",
        "\n",
        "# Connect to the database\n",
        "conn = sqlite3.connect('weather.db')\n",
        "cursor = conn.cursor()\n",
        "\n",
        "# a) All the temperature data\n",
        "cursor.execute('SELECT Temperature FROM weather')\n",
        "temperature_data = cursor.fetchall()\n",
        "print(\"Temperature Data:\", temperature_data)\n",
        "\n"
      ],
      "metadata": {
        "colab": {
          "base_uri": "https://localhost:8080/"
        },
        "id": "tQhUpJSSuVKy",
        "outputId": "90f88619-640b-464a-e442-df258a3a93d9"
      },
      "execution_count": null,
      "outputs": [
        {
          "output_type": "stream",
          "name": "stdout",
          "text": [
            "Temperature Data: [(24.8,), (28.4,), (27.9,), (27.6,), (4.2,), (8.3,), (15.7,), (10.4,), (13.6,), (20.7,), (27.7,), (22.2,)]\n"
          ]
        }
      ]
    },
    {
      "cell_type": "code",
      "source": [
        "\n",
        "# b) All the cities, but without repetition\n",
        "cursor.execute('SELECT DISTINCT City FROM weather')\n",
        "cities = cursor.fetchall()\n",
        "print(\"Cities:\", cities)\n"
      ],
      "metadata": {
        "colab": {
          "base_uri": "https://localhost:8080/"
        },
        "id": "PB-j8WG-vPCn",
        "outputId": "c714bc58-ecdc-4be3-ee85-8345d12e1b55"
      },
      "execution_count": null,
      "outputs": [
        {
          "output_type": "stream",
          "name": "stdout",
          "text": [
            "Cities: [('Mumbai',), ('London',), ('Cairo',)]\n"
          ]
        }
      ]
    },
    {
      "cell_type": "code",
      "source": [
        "\n",
        "# c) All the records for India\n",
        "cursor.execute(\"SELECT * FROM weather WHERE Country = 'India'\")\n",
        "india_records = cursor.fetchall()\n",
        "print(\"Records for India:\", india_records)\n",
        "\n"
      ],
      "metadata": {
        "colab": {
          "base_uri": "https://localhost:8080/"
        },
        "id": "o--Kr1QdvUas",
        "outputId": "1ea1db37-38e4-46bd-dd15-ca7a16250410"
      },
      "execution_count": null,
      "outputs": [
        {
          "output_type": "stream",
          "name": "stdout",
          "text": [
            "Records for India: [('Mumbai', 'India', 'Winter', 24.8, 5.9), ('Mumbai', 'India', 'Spring', 28.4, 16.2), ('Mumbai', 'India', 'Summer', 27.9, 1549.4), ('Mumbai', 'India', 'Fall', 27.6, 346.0)]\n"
          ]
        }
      ]
    },
    {
      "cell_type": "code",
      "source": [
        "# d) All the Fall records\n",
        "cursor.execute(\"SELECT * FROM weather WHERE Season = 'Fall'\")\n",
        "fall_records = cursor.fetchall()\n",
        "print(\"Fall Records:\", fall_records)\n",
        "\n"
      ],
      "metadata": {
        "colab": {
          "base_uri": "https://localhost:8080/"
        },
        "id": "Z198y8QgvX0T",
        "outputId": "e04c0079-8b36-464a-d25c-8f6c82e5eff0"
      },
      "execution_count": null,
      "outputs": [
        {
          "output_type": "stream",
          "name": "stdout",
          "text": [
            "Fall Records: [('Mumbai', 'India', 'Fall', 27.6, 346.0), ('London', 'United Kingdom', 'Fall', 10.4, 218.5), ('Cairo', 'Egypt', 'Fall', 22.2, 4.5)]\n"
          ]
        }
      ]
    },
    {
      "cell_type": "code",
      "source": [
        "# e) The city, country, and season for which the average rainfall is between 200 and 400 millimeters\n",
        "cursor.execute(\"SELECT City, Country, Season FROM weather WHERE Rainfall BETWEEN 200 AND 400\")\n",
        "average_rainfall_records = cursor.fetchall()\n",
        "print(\"Average Rainfall Records:\", average_rainfall_records)\n",
        "\n"
      ],
      "metadata": {
        "colab": {
          "base_uri": "https://localhost:8080/"
        },
        "id": "wQNAmc-Avark",
        "outputId": "52032667-f2a1-4546-d9c9-d1530fc8bcce"
      },
      "execution_count": null,
      "outputs": [
        {
          "output_type": "stream",
          "name": "stdout",
          "text": [
            "Average Rainfall Records: [('Mumbai', 'India', 'Fall'), ('London', 'United Kingdom', 'Winter'), ('London', 'United Kingdom', 'Fall')]\n"
          ]
        }
      ]
    },
    {
      "cell_type": "code",
      "source": [
        "# f) The city and country for which the average Fall temperature is above 20 degrees, in increasing temperature order\n",
        "cursor.execute(\"SELECT City, Country FROM weather WHERE Season = 'Fall' AND Temperature > 20 ORDER BY Temperature ASC\")\n",
        "average_fall_temperature_records = cursor.fetchall()\n",
        "print(\"Average Fall Temperature Records:\", average_fall_temperature_records)\n",
        "\n"
      ],
      "metadata": {
        "colab": {
          "base_uri": "https://localhost:8080/"
        },
        "id": "fZW39ojlvdjg",
        "outputId": "2571711b-bcf6-4dc6-ca85-b4f8a6b772ba"
      },
      "execution_count": null,
      "outputs": [
        {
          "output_type": "stream",
          "name": "stdout",
          "text": [
            "Average Fall Temperature Records: [('Cairo', 'Egypt'), ('Mumbai', 'India')]\n"
          ]
        }
      ]
    },
    {
      "cell_type": "code",
      "source": [
        "# g) The total annual rainfall for Cairo\n",
        "cursor.execute(\"SELECT SUM(Rainfall) FROM weather WHERE City = 'Cairo'\")\n",
        "cairo_total_rainfall = cursor.fetchone()[0]\n",
        "print(\"Total Annual Rainfall for Cairo:\", cairo_total_rainfall)\n",
        "\n"
      ],
      "metadata": {
        "colab": {
          "base_uri": "https://localhost:8080/"
        },
        "id": "YLE7Nbrsvfnw",
        "outputId": "7397bb10-f7fd-4974-c398-e17b5a9b6e10"
      },
      "execution_count": null,
      "outputs": [
        {
          "output_type": "stream",
          "name": "stdout",
          "text": [
            "Total Annual Rainfall for Cairo: 27.6\n"
          ]
        }
      ]
    },
    {
      "cell_type": "code",
      "source": [
        "# h) The total rainfall for each season\n",
        "cursor.execute(\"SELECT Season, SUM(Rainfall) FROM weather GROUP BY Season\")\n",
        "season_total_rainfall = cursor.fetchall()\n",
        "print(\"Total Rainfall for Each Season:\", season_total_rainfall)\n",
        "\n",
        "# Close the connection\n",
        "conn.close()"
      ],
      "metadata": {
        "colab": {
          "base_uri": "https://localhost:8080/"
        },
        "id": "7Lp3HNNTvheh",
        "outputId": "71d0e665-5611-4dcc-ecb5-713e3a1ffc4f"
      },
      "execution_count": null,
      "outputs": [
        {
          "output_type": "stream",
          "name": "stdout",
          "text": [
            "Total Rainfall for Each Season: [('Fall', 569.0), ('Spring', 192.29999999999998), ('Summer', 1706.5), ('Winter', 230.1)]\n"
          ]
        }
      ]
    },
    {
      "cell_type": "markdown",
      "source": [
        "# Question 9\n",
        ". Suppose list words is defined as follows:\n",
        ">>words = ['The', 'quick', 'brown', 'fox', 'jumps', 'over',\n",
        "'the', 'lazy', 'dog']\n",
        "\n",
        "Write list comprehension expressions that use list words and generate the following\n",
        "lists:\n",
        "\n",
        "a) ['THE', 'QUICK', 'BROWN', 'FOX', 'JUMPS', 'OVER',\n",
        "'THE',\n",
        "'LAZY', 'DOG']\n",
        "\n",
        "b) ['the', 'quick', 'brown', 'fox', 'jumps', 'over', 'the',\n",
        "'lazy', 'dog']\n",
        "\n",
        "c) [3, 5, 5, 3, 5, 4, 3, 4, 3] (the list of lengths of words in list\n",
        "words).\n",
        "\n",
        "d) [['THE', 'the', 3], ['QUICK', 'quick', 5], ['BROWN',\n",
        "'brown', 5], ['FOX', 'fox', 3], ['JUMPS', 'jumps', 5],\n",
        "['OVER', 'over', 4], ['THE', 'the', 3], ['LAZY', 'lazy',\n",
        "4], ['DOG', 'dog', 3]] (the list containing a list for every word of list\n",
        "words, where each list contains the word in uppercase and lowercase and the\n",
        "length of the word.)\n",
        "\n",
        "e) ['The', 'quick', 'brown', 'fox', 'jumps', 'over', 'the',\n",
        "'lazy', 'dog'] (the list of words in list words containing 4 or more\n",
        "characters.)\n"
      ],
      "metadata": {
        "id": "4N2_LOXfGYNt"
      }
    },
    {
      "cell_type": "code",
      "source": [
        "words = ['The', 'quick', 'brown', 'fox', 'jumps', 'over', 'the', 'lazy', 'dog']\n",
        "\n",
        "# a) ['THE', 'QUICK', 'BROWN', 'FOX', 'JUMPS', 'OVER', 'THE', 'LAZY', 'DOG']\n",
        "list_a = [word.upper() for word in words]\n",
        "print(\"List a:\", list_a)"
      ],
      "metadata": {
        "colab": {
          "base_uri": "https://localhost:8080/"
        },
        "id": "44gOQRfbIOiV",
        "outputId": "4f169f0c-82df-438b-e428-3012859d6b3d"
      },
      "execution_count": null,
      "outputs": [
        {
          "output_type": "stream",
          "name": "stdout",
          "text": [
            "List a: ['THE', 'QUICK', 'BROWN', 'FOX', 'JUMPS', 'OVER', 'THE', 'LAZY', 'DOG']\n",
            "List b: ['the', 'quick', 'brown', 'fox', 'jumps', 'over', 'the', 'lazy', 'dog']\n",
            "List c: [3, 5, 5, 3, 5, 4, 3, 4, 3]\n",
            "List d: [['THE', 'the', 3], ['QUICK', 'quick', 5], ['BROWN', 'brown', 5], ['FOX', 'fox', 3], ['JUMPS', 'jumps', 5], ['OVER', 'over', 4], ['THE', 'the', 3], ['LAZY', 'lazy', 4], ['DOG', 'dog', 3]]\n",
            "List e: ['quick', 'brown', 'jumps', 'over', 'lazy']\n"
          ]
        }
      ]
    },
    {
      "cell_type": "code",
      "source": [
        "# b) ['the', 'quick', 'brown', 'fox', 'jumps', 'over', 'the', 'lazy', 'dog']\n",
        "list_b = [word.lower() for word in words]\n",
        "print(\"List b:\", list_b)\n"
      ],
      "metadata": {
        "id": "nF3vbnXSVmwT"
      },
      "execution_count": null,
      "outputs": []
    },
    {
      "cell_type": "code",
      "source": [
        "\n",
        "# c) [3, 5, 5, 3, 5, 4, 3, 4, 3] (the list of lengths of words in list words)\n",
        "list_c = [len(word) for word in words]\n",
        "print(\"List c:\", list_c)\n",
        "\n"
      ],
      "metadata": {
        "id": "1N5DvXBQVqIu"
      },
      "execution_count": null,
      "outputs": []
    },
    {
      "cell_type": "code",
      "source": [
        "# d) [['THE', 'the', 3], ['QUICK', 'quick', 5], ['BROWN', 'brown', 5], ['FOX', 'fox', 3],\n",
        "# ['JUMPS', 'jumps', 5], ['OVER', 'over', 4], ['THE', 'the', 3], ['LAZY', 'lazy', 4],\n",
        "# ['DOG', 'dog', 3]] (the list containing a list for every word of list words, where each list\n",
        "# contains the word in uppercase and lowercase and the length of the word.)\n",
        "list_d = [[word.upper(), word.lower(), len(word)] for word in words]\n",
        "print(\"List d:\", list_d)\n"
      ],
      "metadata": {
        "id": "h6oeLZ1IVsN1"
      },
      "execution_count": null,
      "outputs": []
    },
    {
      "cell_type": "code",
      "source": [
        "\n",
        "# e) ['The', 'quick', 'brown', 'fox', 'jumps', 'over', 'the', 'lazy', 'dog']\n",
        "# (the list of words in list words containing 4 or more characters.)\n",
        "list_e = [word for word in words if len(word) >= 4]\n",
        "print(\"List e:\", list_e)"
      ],
      "metadata": {
        "id": "Vsfk4SrCVuCA"
      },
      "execution_count": null,
      "outputs": []
    }
  ]
}