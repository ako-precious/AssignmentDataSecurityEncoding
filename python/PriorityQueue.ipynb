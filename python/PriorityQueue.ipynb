{
  "nbformat": 4,
  "nbformat_minor": 0,
  "metadata": {
    "colab": {
      "provenance": []
    },
    "kernelspec": {
      "name": "python3",
      "display_name": "Python 3"
    },
    "language_info": {
      "name": "python"
    }
  },
  "cells": [
    {
      "cell_type": "markdown",
      "source": [
        "# In an ipython notebook ,write a container class called PriorityQueue. The class should support the methods:\n",
        "__init__(): initializes empty priority queue\n",
        "insert(): Tales a number as input and add it to the container\n",
        "min(): Returns the smallest number in the container\n",
        "removeMin(): Removes the smallest number in the container\n",
        "isEmpty(): Returns a True if the container is empty False otherwise.\n",
        "The overloaded operator len() should also be supported\n",
        "Example:\n",
        ">>> pq = PriorityQueue()\n",
        ">>> pq.insert(3)  \n",
        ">>> pq.insert(1)  \n",
        ">>> pq.insert(5)   \n",
        ">>> pq.insert(2)  \n",
        ">>> pq.min()  \n",
        "1\n",
        ">>> pq.removeMin(1)\n",
        ">>> pq.min()  \n",
        "2\n",
        ">>> len(pq)  \n",
        "3  \n",
        ">>> pq.isEmpty()  \n",
        "False\n"
      ],
      "metadata": {
        "id": "Af1InZtA-KVO"
      }
    },
    {
      "cell_type": "code",
      "source": [
        "class PriorityQueue:\n",
        "    def __init__(self):\n",
        "        self.container = []\n",
        "\n",
        "    def insert(self, number):\n",
        "        self.container.append(number)\n",
        "\n",
        "    def min(self):\n",
        "        if self.isEmpty():\n",
        "            raise ValueError(\"PriorityQueue is empty\")\n",
        "        return min(self.container)\n",
        "\n",
        "    def removeMin(self):\n",
        "        if self.isEmpty():\n",
        "            raise ValueError(\"PriorityQueue is empty\")\n",
        "        min_index = self.container.index(min(self.container))\n",
        "        self.container.pop(min_index)\n",
        "\n",
        "    def isEmpty(self):\n",
        "        return len(self.container) == 0\n",
        "\n",
        "    def __len__(self):\n",
        "        return len(self.container)\n"
      ],
      "metadata": {
        "id": "CGEmpec9L_i9"
      },
      "execution_count": 2,
      "outputs": []
    },
    {
      "cell_type": "code",
      "source": [
        "# Example usage\n",
        "pq = PriorityQueue()\n",
        "pq.insert(3)\n",
        "pq.insert(1)\n",
        "pq.insert(5)\n",
        "pq.insert(2)\n",
        "\n",
        "print(pq.min())      # Output: 1\n",
        "pq.removeMin()\n",
        "print(pq.min())      # Output: 2\n",
        "print(len(pq))       # Output: 3\n",
        "print(pq.isEmpty())  # Output: False\n"
      ],
      "metadata": {
        "colab": {
          "base_uri": "https://localhost:8080/"
        },
        "id": "NumUmNxaMGCA",
        "outputId": "dd551976-62b5-492c-a0b4-491cc3ee18bc"
      },
      "execution_count": 3,
      "outputs": [
        {
          "output_type": "stream",
          "name": "stdout",
          "text": [
            "1\n",
            "2\n",
            "3\n",
            "False\n"
          ]
        }
      ]
    }
  ]
}