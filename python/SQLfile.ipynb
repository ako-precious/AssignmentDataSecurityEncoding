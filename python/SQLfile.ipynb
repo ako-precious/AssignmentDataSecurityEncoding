{
  "cells": [
    {
      "cell_type": "markdown",
      "metadata": {
        "id": "ZDkwEVgX7HUv"
      },
      "source": [
        "# There is a table World in the attached SQL file. SQL.txt\n",
        "A country is big if it has an area of bigger than 3 million square km or a population of more than 25 million.\n",
        "Write a SQL solution to output big countries' name, population and area.\n",
        "In an ipython notebook create a sqlite3 database and a table called World. Insert the World data into your table (python + SQL syntax) and then proceed to write the big countries query. Your output does not need to be formatted like table, you may just print the countries with thier populations and areas.\n",
        "Upload your ipython notebook with output to this question.\n"
      ]
    },
    {
      "cell_type": "code",
      "execution_count": null,
      "metadata": {
        "id": "wMa87b1OuPU_"
      },
      "outputs": [
        {
          "ename": "",
          "evalue": "",
          "output_type": "error",
          "traceback": [
            "\u001b[1;31mRunning cells with 'c:\\Python311\\python.exe' requires the ipykernel package.\n",
            "\u001b[1;31mRun the following command to install 'ipykernel' into the Python environment. \n",
            "\u001b[1;31mCommand: 'c:/Python311/python.exe -m pip install ipykernel -U --user --force-reinstall'"
          ]
        }
      ],
      "source": [
        "import sqlite3\n",
        "\n",
        "# Create a SQLite database and connect to it\n",
        "conn = sqlite3.connect('world.db')\n",
        "cursor = conn.cursor()\n"
      ]
    },
    {
      "cell_type": "code",
      "execution_count": null,
      "metadata": {
        "colab": {
          "base_uri": "https://localhost:8080/"
        },
        "id": "nInIC7fz2dJp",
        "outputId": "bed0c122-202c-4ae3-9819-80f0332871c9"
      },
      "outputs": [
        {
          "data": {
            "text/plain": [
              "<sqlite3.Cursor at 0x7efef19ad840>"
            ]
          },
          "execution_count": 3,
          "metadata": {},
          "output_type": "execute_result"
        }
      ],
      "source": [
        "# Create the World table\n",
        "create_table_query = '''\n",
        "CREATE TABLE IF NOT EXISTS World (\n",
        "    name TEXT,\n",
        "    continent TEXT,\n",
        "    area REAL,\n",
        "    population INTEGER,\n",
        "    gdp INTEGER\n",
        ");\n",
        "'''\n",
        "cursor.execute(create_table_query)"
      ]
    },
    {
      "cell_type": "code",
      "execution_count": null,
      "metadata": {
        "id": "IQuJdTDp5Zax"
      },
      "outputs": [],
      "source": [
        "# Insert World data into the table\n",
        "insert_data_query = '''\n",
        "INSERT INTO World (name, continent, area, population, gdp )\n",
        "VALUES\n",
        "    ('Afghanistan','Asia', 652230, 25500100,20343000 ),\n",
        "    ('Albania','Europe', 28748, 2831741,12960000 ),\n",
        "    ('Algeria','Africa', 2381741, 37100000,188681000 ),\n",
        "    ('Andorra','Europe', 468, 78115,3712000 ),\n",
        "    ('Angola','Africa', 1246700, 20609294, 100990000);\n",
        "'''\n",
        "cursor.execute(insert_data_query)\n",
        "\n",
        "# Commit the changes and close the connection\n",
        "conn.commit()"
      ]
    },
    {
      "cell_type": "code",
      "execution_count": null,
      "metadata": {
        "colab": {
          "base_uri": "https://localhost:8080/"
        },
        "id": "qyzBnnjW6qOf",
        "outputId": "93e00b10-2edc-47d0-de82-4a1b340957ba"
      },
      "outputs": [
        {
          "data": {
            "text/plain": [
              "<sqlite3.Cursor at 0x7efef19ad840>"
            ]
          },
          "execution_count": 6,
          "metadata": {},
          "output_type": "execute_result"
        }
      ],
      "source": [
        "\n",
        "# Execute the SQL query\n",
        "big_countries_query = '''\n",
        "SELECT name, population, area\n",
        "FROM World\n",
        "WHERE area > 3000000 OR population > 25000000;\n",
        "'''\n",
        "cursor.execute(big_countries_query)\n"
      ]
    },
    {
      "cell_type": "code",
      "execution_count": null,
      "metadata": {
        "colab": {
          "base_uri": "https://localhost:8080/"
        },
        "id": "kk_SQggb6uvT",
        "outputId": "80e811ee-b0b2-40c2-ff85-83fd3c314a0d"
      },
      "outputs": [
        {
          "name": "stdout",
          "output_type": "stream",
          "text": [
            "Name: Afghanistan, Population: 25500100, Area: 652230.0\n",
            "Name: Algeria, Population: 37100000, Area: 2381741.0\n"
          ]
        }
      ],
      "source": [
        "# Fetch all the results\n",
        "big_countries = cursor.fetchall()\n",
        "\n",
        "# Print the results\n",
        "for country in big_countries:\n",
        "    name, population, area = country\n",
        "    print(f\"Name: {name}, Population: {population}, Area: {area}\")\n"
      ]
    },
    {
      "cell_type": "code",
      "execution_count": null,
      "metadata": {
        "id": "3JRHC1qc6yYB"
      },
      "outputs": [],
      "source": [
        "# Close the connection\n",
        "conn.close()"
      ]
    }
  ],
  "metadata": {
    "colab": {
      "provenance": []
    },
    "kernelspec": {
      "display_name": "Python 3",
      "name": "python3"
    },
    "language_info": {
      "name": "python",
      "version": "3.11.4"
    }
  },
  "nbformat": 4,
  "nbformat_minor": 0
}
